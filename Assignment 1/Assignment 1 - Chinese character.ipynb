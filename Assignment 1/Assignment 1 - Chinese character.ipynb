{
 "cells": [
  {
   "cell_type": "markdown",
   "id": "3844c336",
   "metadata": {},
   "source": [
    "# **Introduction**\n",
    "\n",
    "Optical character recognition is an old \"AI\" and image-processing task.  What it involves is taking a photograph or scan of a piece of text (printed or handwritten) and turning the characters (as images) into character codes on the computer that therefore allow the text to be edited, indexed, etc.  A key part of that process is identifying where the characters actually are, especially if the characters are mixed among other non-writing, such as images of objects or people.\n",
    "\n",
    "In this assignment, you will take images from a Chinese image database with annotations that indicate where the Chinese characters are, and you will train a model that takes test images, and superimposes upon them a visualization (of your choosing, e.g., a \"heat map\") of the likelihood that a pixel is close to or part of a valid Chinese character.  The image database contains annotations of \"bounding boxes\", coordinates of the corners of a box that contains a single Chinese character.  In a sense, this assignment asks you to detect the bounding boxes in test images without the annotation, but a softer version of this: simply to provide the probability, for each pixel, whether that pixel was part of a bounding box containing a Chinese character.  Then, you are to (1) superimpose upon the image a pixel-based map of likelihoods of where the bounding boxes ought to be and (2) apply an evaluation statistic.\n",
    "\n",
    "This assignment grants you a lot of freedom in how you organize your code and set up the task overall.  Because of the degree of freedom it involves, it will mostly be graded on our evaluation of the effort put into the solution.  An actual high success at the task is not a requirement to get a high grade.  However, you will have to report in detail, in your own format, what you did, why you did it, how to run it -- it must run on mltgpu, be implemented in Python using PyTorch, and make use of the GPUs -- and how to apply it easily to our own test images.\n",
    "\n",
    "You will have almost a month to do this assignment, even though it is worth only 30% of your grade.  Another assignment with 30% will be given out for the last/remaining two weeks of the study period.   These time periods are coextensive with that of the project, but we expect you to be able to schedule your time well enough to put in an effort at both. This assignment is officially due at **23:59 on 2021 October 18**. There are 30 points on this assignment, and a maximum of 20 bonus points."
   ]
  },
  {
   "cell_type": "markdown",
   "id": "898f26b8",
   "metadata": {},
   "source": [
    "# **The data**\n",
    "\n",
    "The source of the task is here: https://ctwdataset.github.io/ (Links to an external site.) They have example images and an example of a baseline task that is much more advanced than what we are doing, but it will give you an idea of the data format, particularly the metadata.  Pay attention especially to the \"Annotation format\" section of this page: https://ctwdataset.github.io/tutorial/1-basics.html (Links to an external site.)\n",
    "\n",
    "The metadata and a small sample of the whole image dataset is available at /scratch/lt2326-h21/a1 on mltgpu. The metadata is in json format.  info.json contains information about every image file.  We will unzip only a minority of the original training image files.  train.jsonl is a list of json entities, one per line (that have to be parsed with the json package each separately) that correspond to the files in info.json.  This contains the bounding box information, as well as other information for the original challenge on the web.  See the \"Annotation format\" section mentioned on the dataset web page linked above."
   ]
  },
  {
   "cell_type": "markdown",
   "id": "b87fc53a",
   "metadata": {},
   "source": [
    "# **Part 1: data preparation (7 points)**\n",
    "\n",
    "The image files are in /scratch/lt2326-h21/a1/images on mltgpu. They are in jpg format.  The code that you write for this part of the project should:\n",
    "\n",
    "- Use the info.json file to figure out what files are in the training set.  You will just use the official training data for everything.  Remember that you will only see a small minority of training examples in the images directory, for space reasons.\n",
    "- Divide up the official training data files into your own training, validation, and test datasets depending on your own preferences. You can choose to use fewer files than the maximum available if you run into problems with memory and so on (but first make sure your implementation is reasonably efficient).\n",
    "- Find the corresponding bounding box information in train.jsonl for each image.\n",
    "\n",
    "You can represent the data in any way you like, but remember that it will become a numpy array for processing and a torch tensor for training.  Remember also that the classes are defined by pixel: for each pixel, you will eventually have a set of features (e.g. colour values), and a binary class corresponding to whether the pixel was in a Chinese character bounding box or not (note that there are non-Chinese characters in the set -- see the annotation instructions).  You are allowed to reduce the dimensionality of the images for processing, but consider using a pooling and/or upsampling technique in Part 2 of this assignment to accomplish this goal. \n",
    "\n",
    "Describe the choices you made and the challenges you found in your report."
   ]
  },
  {
   "cell_type": "code",
   "execution_count": 2,
   "id": "8a460d7f",
   "metadata": {},
   "outputs": [],
   "source": [
    "#imports\n",
    "\n",
    "import json\n",
    "import numpy as np\n",
    "import pandas as pd\n",
    "import random\n",
    "from torch import nn\n",
    "import os\n",
    "import torch\n",
    "from torchvision import transforms\n",
    "from PIL import Image\n",
    "import matplotlib.path as mplpath\n",
    "from skimage import io\n",
    "\n",
    "#device\n",
    "device = torch.device('cpu')"
   ]
  },
  {
   "cell_type": "code",
   "execution_count": 3,
   "id": "684c563e",
   "metadata": {},
   "outputs": [],
   "source": [
    "#paths\n",
    "\n",
    "images_directory = \"/scratch/lt2326-h21/a1/images\"\n",
    "train_json = \"/scratch/lt2326-h21/a1/train.jsonl\"\n",
    "info_json = \"/scratch/lt2326-h21/a1/info.json\"\n",
    "\n",
    "\n",
    "#opening files and images\n",
    "\n",
    "with open(train_json) as trainfile:\n",
    "    train_data = [json.loads(x) for x in trainfile]\n",
    "\n",
    "with open(info_json) as infofile:\n",
    "    info_data = json.load(infofile)"
   ]
  },
  {
   "cell_type": "code",
   "execution_count": 4,
   "id": "439b2dd1",
   "metadata": {},
   "outputs": [],
   "source": [
    "#figure out what files are in the training set\n",
    "\n",
    "selection = ['train']\n",
    "filtered = list(filter(lambda i: i[0] in selection, info_data.items()))\n",
    "filenames = [d['file_name'] for d in filtered[0][1]]\n",
    "\n",
    "iiiimages = os.listdir(images_directory)\n",
    "\n",
    "my_images = []\n",
    "for n in iiiimages:\n",
    "    if n in filenames:\n",
    "        my_images.append(n.replace('.jpg', ''))"
   ]
  },
  {
   "cell_type": "code",
   "execution_count": 5,
   "id": "77083795",
   "metadata": {},
   "outputs": [],
   "source": [
    "#getting all usable files\n",
    "\n",
    "files = []\n",
    "for image in train_data:\n",
    "    if image['image_id'] in my_images:\n",
    "        files.append(image)"
   ]
  },
  {
   "cell_type": "code",
   "execution_count": 6,
   "id": "3cd558f6",
   "metadata": {},
   "outputs": [],
   "source": [
    "#find the corresponding bounding box information in train.jsonl for each image\n",
    "\n",
    "def chinese(images):\n",
    "    ch_dict = {}\n",
    "    ch_list = []\n",
    "    \n",
    "    for i in images[:20]:\n",
    "        ch_dict[i['image_id']] = {'polygons' : []}\n",
    "        poly_list = []\n",
    "        for annotation in i['annotations']:\n",
    "            for an in annotation:\n",
    "                if an['is_chinese'] == True:\n",
    "                    ch_dict[i['image_id']]['polygons'].append(an['polygon'])\n",
    "                    poly_list.append(an['polygon'])\n",
    "        ch_list.append((i['image_id'], poly_list))\n",
    "                    \n",
    "    return ch_list\n",
    "\n",
    "chinese_list = chinese(files)"
   ]
  },
  {
   "cell_type": "code",
   "execution_count": 7,
   "id": "e219dc23",
   "metadata": {},
   "outputs": [],
   "source": [
    "def img_to_tensor(path_to_img):\n",
    "    \n",
    "    img = io.imread(path_to_img)\n",
    "\n",
    "    img = torch.tensor(img).float()\n",
    "    \n",
    "    return img #img"
   ]
  },
  {
   "cell_type": "code",
   "execution_count": 8,
   "id": "9b0150b5",
   "metadata": {},
   "outputs": [],
   "source": [
    "def get_truth(polygons_list):\n",
    "    \n",
    "    grr = [[[a, b] for b in list(range(2048))] for a in list(range(2048))]\n",
    "    grid = np.array(grr)\n",
    "    grid.shape = (4194304, 2)\n",
    "    \n",
    "    p = [pol for pol in polygons_list]\n",
    "\n",
    "    truth_array = np.zeros(4194304)\n",
    "    for x in p:\n",
    "        p2 = mplpath.Path(x)\n",
    "        truth = np.asarray(p2.contains_points(grid), int)\n",
    "        truth_array = np.maximum(truth_array, truth)\n",
    "    \n",
    "    t_tensor = torch.from_numpy(truth_array)\n",
    "    \n",
    "    truth_tensor = torch.tensor(t_tensor).type(torch.LongTensor) #.to(device)\n",
    "    \n",
    "    return truth_tensor"
   ]
  },
  {
   "cell_type": "code",
   "execution_count": 9,
   "id": "a638fe9c",
   "metadata": {},
   "outputs": [
    {
     "name": "stderr",
     "output_type": "stream",
     "text": [
      "/usr/local/lib64/python3.9/site-packages/numpy/core/_asarray.py:83: VisibleDeprecationWarning: Creating an ndarray from ragged nested sequences (which is a list-or-tuple of lists-or-tuples-or ndarrays with different lengths or shapes) is deprecated. If you meant to do this, you must specify 'dtype=object' when creating the ndarray\n",
      "  return array(a, dtype, copy=False, order=order)\n"
     ]
    }
   ],
   "source": [
    "training_real, validation_real, test_real = np.split(chinese_list, [int(len(files)*0.8), int(len(files)*0.9)])"
   ]
  },
  {
   "cell_type": "code",
   "execution_count": 10,
   "id": "e3a7fd9b",
   "metadata": {},
   "outputs": [],
   "source": [
    "import time\n",
    "from joblib import Parallel, delayed\n",
    "\n",
    "def process_images_in_parallel(image):\n",
    "    return (img_to_tensor(images_directory + \"/\" + image[0] + \".jpg\"), \n",
    "            get_truth(image[1])) "
   ]
  },
  {
   "cell_type": "code",
   "execution_count": 11,
   "id": "f2c9846b",
   "metadata": {},
   "outputs": [
    {
     "name": "stderr",
     "output_type": "stream",
     "text": [
      "/tmp/ipykernel_1967000/2728341155.py:17: UserWarning: To copy construct from a tensor, it is recommended to use sourceTensor.clone().detach() or sourceTensor.clone().detach().requires_grad_(True), rather than torch.tensor(sourceTensor).\n",
      "/tmp/ipykernel_1967000/2728341155.py:17: UserWarning: To copy construct from a tensor, it is recommended to use sourceTensor.clone().detach() or sourceTensor.clone().detach().requires_grad_(True), rather than torch.tensor(sourceTensor).\n",
      "/tmp/ipykernel_1967000/2728341155.py:17: UserWarning: To copy construct from a tensor, it is recommended to use sourceTensor.clone().detach() or sourceTensor.clone().detach().requires_grad_(True), rather than torch.tensor(sourceTensor).\n",
      "/tmp/ipykernel_1967000/2728341155.py:17: UserWarning: To copy construct from a tensor, it is recommended to use sourceTensor.clone().detach() or sourceTensor.clone().detach().requires_grad_(True), rather than torch.tensor(sourceTensor).\n",
      "/tmp/ipykernel_1967000/2728341155.py:17: UserWarning: To copy construct from a tensor, it is recommended to use sourceTensor.clone().detach() or sourceTensor.clone().detach().requires_grad_(True), rather than torch.tensor(sourceTensor).\n",
      "/tmp/ipykernel_1967000/2728341155.py:17: UserWarning: To copy construct from a tensor, it is recommended to use sourceTensor.clone().detach() or sourceTensor.clone().detach().requires_grad_(True), rather than torch.tensor(sourceTensor).\n",
      "/tmp/ipykernel_1967000/2728341155.py:17: UserWarning: To copy construct from a tensor, it is recommended to use sourceTensor.clone().detach() or sourceTensor.clone().detach().requires_grad_(True), rather than torch.tensor(sourceTensor).\n",
      "/tmp/ipykernel_1967000/2728341155.py:17: UserWarning: To copy construct from a tensor, it is recommended to use sourceTensor.clone().detach() or sourceTensor.clone().detach().requires_grad_(True), rather than torch.tensor(sourceTensor).\n",
      "/tmp/ipykernel_1967000/2728341155.py:17: UserWarning: To copy construct from a tensor, it is recommended to use sourceTensor.clone().detach() or sourceTensor.clone().detach().requires_grad_(True), rather than torch.tensor(sourceTensor).\n",
      "/tmp/ipykernel_1967000/2728341155.py:17: UserWarning: To copy construct from a tensor, it is recommended to use sourceTensor.clone().detach() or sourceTensor.clone().detach().requires_grad_(True), rather than torch.tensor(sourceTensor).\n",
      "/tmp/ipykernel_1967000/2728341155.py:17: UserWarning: To copy construct from a tensor, it is recommended to use sourceTensor.clone().detach() or sourceTensor.clone().detach().requires_grad_(True), rather than torch.tensor(sourceTensor).\n",
      "/tmp/ipykernel_1967000/2728341155.py:17: UserWarning: To copy construct from a tensor, it is recommended to use sourceTensor.clone().detach() or sourceTensor.clone().detach().requires_grad_(True), rather than torch.tensor(sourceTensor).\n",
      "/tmp/ipykernel_1967000/2728341155.py:17: UserWarning: To copy construct from a tensor, it is recommended to use sourceTensor.clone().detach() or sourceTensor.clone().detach().requires_grad_(True), rather than torch.tensor(sourceTensor).\n",
      "/tmp/ipykernel_1967000/2728341155.py:17: UserWarning: To copy construct from a tensor, it is recommended to use sourceTensor.clone().detach() or sourceTensor.clone().detach().requires_grad_(True), rather than torch.tensor(sourceTensor).\n",
      "/tmp/ipykernel_1967000/2728341155.py:17: UserWarning: To copy construct from a tensor, it is recommended to use sourceTensor.clone().detach() or sourceTensor.clone().detach().requires_grad_(True), rather than torch.tensor(sourceTensor).\n",
      "/tmp/ipykernel_1967000/2728341155.py:17: UserWarning: To copy construct from a tensor, it is recommended to use sourceTensor.clone().detach() or sourceTensor.clone().detach().requires_grad_(True), rather than torch.tensor(sourceTensor).\n",
      "/tmp/ipykernel_1967000/2728341155.py:17: UserWarning: To copy construct from a tensor, it is recommended to use sourceTensor.clone().detach() or sourceTensor.clone().detach().requires_grad_(True), rather than torch.tensor(sourceTensor).\n",
      "/tmp/ipykernel_1967000/2728341155.py:17: UserWarning: To copy construct from a tensor, it is recommended to use sourceTensor.clone().detach() or sourceTensor.clone().detach().requires_grad_(True), rather than torch.tensor(sourceTensor).\n",
      "/tmp/ipykernel_1967000/2728341155.py:17: UserWarning: To copy construct from a tensor, it is recommended to use sourceTensor.clone().detach() or sourceTensor.clone().detach().requires_grad_(True), rather than torch.tensor(sourceTensor).\n",
      "/tmp/ipykernel_1967000/2728341155.py:17: UserWarning: To copy construct from a tensor, it is recommended to use sourceTensor.clone().detach() or sourceTensor.clone().detach().requires_grad_(True), rather than torch.tensor(sourceTensor).\n"
     ]
    },
    {
     "name": "stdout",
     "output_type": "stream",
     "text": [
      "Processing data took 53.0 seconds\n"
     ]
    }
   ],
   "source": [
    "start = time.time()\n",
    "processed_data = Parallel(n_jobs = 10)(delayed(process_images_in_parallel)(image) for image in training_real)\n",
    "end = time.time()\n",
    "\n",
    "print(\"Processing data took\", round(end-start, 0), \"seconds\")"
   ]
  },
  {
   "cell_type": "code",
   "execution_count": 29,
   "id": "090cc8ec",
   "metadata": {},
   "outputs": [
    {
     "name": "stderr",
     "output_type": "stream",
     "text": [
      "/tmp/ipykernel_1787816/2728341155.py:17: UserWarning: To copy construct from a tensor, it is recommended to use sourceTensor.clone().detach() or sourceTensor.clone().detach().requires_grad_(True), rather than torch.tensor(sourceTensor).\n",
      "/tmp/ipykernel_1787816/2728341155.py:17: UserWarning: To copy construct from a tensor, it is recommended to use sourceTensor.clone().detach() or sourceTensor.clone().detach().requires_grad_(True), rather than torch.tensor(sourceTensor).\n",
      "/tmp/ipykernel_1787816/2728341155.py:17: UserWarning: To copy construct from a tensor, it is recommended to use sourceTensor.clone().detach() or sourceTensor.clone().detach().requires_grad_(True), rather than torch.tensor(sourceTensor).\n",
      "/tmp/ipykernel_1787816/2728341155.py:17: UserWarning: To copy construct from a tensor, it is recommended to use sourceTensor.clone().detach() or sourceTensor.clone().detach().requires_grad_(True), rather than torch.tensor(sourceTensor).\n",
      "/tmp/ipykernel_1787816/2728341155.py:17: UserWarning: To copy construct from a tensor, it is recommended to use sourceTensor.clone().detach() or sourceTensor.clone().detach().requires_grad_(True), rather than torch.tensor(sourceTensor).\n",
      "/tmp/ipykernel_1787816/2728341155.py:17: UserWarning: To copy construct from a tensor, it is recommended to use sourceTensor.clone().detach() or sourceTensor.clone().detach().requires_grad_(True), rather than torch.tensor(sourceTensor).\n",
      "/tmp/ipykernel_1787816/2728341155.py:17: UserWarning: To copy construct from a tensor, it is recommended to use sourceTensor.clone().detach() or sourceTensor.clone().detach().requires_grad_(True), rather than torch.tensor(sourceTensor).\n",
      "/tmp/ipykernel_1787816/2728341155.py:17: UserWarning: To copy construct from a tensor, it is recommended to use sourceTensor.clone().detach() or sourceTensor.clone().detach().requires_grad_(True), rather than torch.tensor(sourceTensor).\n",
      "/tmp/ipykernel_1787816/2728341155.py:17: UserWarning: To copy construct from a tensor, it is recommended to use sourceTensor.clone().detach() or sourceTensor.clone().detach().requires_grad_(True), rather than torch.tensor(sourceTensor).\n",
      "/tmp/ipykernel_1787816/2728341155.py:17: UserWarning: To copy construct from a tensor, it is recommended to use sourceTensor.clone().detach() or sourceTensor.clone().detach().requires_grad_(True), rather than torch.tensor(sourceTensor).\n",
      "/tmp/ipykernel_1787816/2728341155.py:17: UserWarning: To copy construct from a tensor, it is recommended to use sourceTensor.clone().detach() or sourceTensor.clone().detach().requires_grad_(True), rather than torch.tensor(sourceTensor).\n",
      "/tmp/ipykernel_1787816/2728341155.py:17: UserWarning: To copy construct from a tensor, it is recommended to use sourceTensor.clone().detach() or sourceTensor.clone().detach().requires_grad_(True), rather than torch.tensor(sourceTensor).\n",
      "/tmp/ipykernel_1787816/2728341155.py:17: UserWarning: To copy construct from a tensor, it is recommended to use sourceTensor.clone().detach() or sourceTensor.clone().detach().requires_grad_(True), rather than torch.tensor(sourceTensor).\n",
      "/tmp/ipykernel_1787816/2728341155.py:17: UserWarning: To copy construct from a tensor, it is recommended to use sourceTensor.clone().detach() or sourceTensor.clone().detach().requires_grad_(True), rather than torch.tensor(sourceTensor).\n",
      "/tmp/ipykernel_1787816/2728341155.py:17: UserWarning: To copy construct from a tensor, it is recommended to use sourceTensor.clone().detach() or sourceTensor.clone().detach().requires_grad_(True), rather than torch.tensor(sourceTensor).\n",
      "/tmp/ipykernel_1787816/2728341155.py:17: UserWarning: To copy construct from a tensor, it is recommended to use sourceTensor.clone().detach() or sourceTensor.clone().detach().requires_grad_(True), rather than torch.tensor(sourceTensor).\n",
      "/tmp/ipykernel_1787816/2728341155.py:17: UserWarning: To copy construct from a tensor, it is recommended to use sourceTensor.clone().detach() or sourceTensor.clone().detach().requires_grad_(True), rather than torch.tensor(sourceTensor).\n",
      "/tmp/ipykernel_1787816/2728341155.py:17: UserWarning: To copy construct from a tensor, it is recommended to use sourceTensor.clone().detach() or sourceTensor.clone().detach().requires_grad_(True), rather than torch.tensor(sourceTensor).\n",
      "/tmp/ipykernel_1787816/2728341155.py:17: UserWarning: To copy construct from a tensor, it is recommended to use sourceTensor.clone().detach() or sourceTensor.clone().detach().requires_grad_(True), rather than torch.tensor(sourceTensor).\n",
      "/tmp/ipykernel_1787816/2728341155.py:17: UserWarning: To copy construct from a tensor, it is recommended to use sourceTensor.clone().detach() or sourceTensor.clone().detach().requires_grad_(True), rather than torch.tensor(sourceTensor).\n",
      "/tmp/ipykernel_1787816/2728341155.py:17: UserWarning: To copy construct from a tensor, it is recommended to use sourceTensor.clone().detach() or sourceTensor.clone().detach().requires_grad_(True), rather than torch.tensor(sourceTensor).\n",
      "/tmp/ipykernel_1787816/2728341155.py:17: UserWarning: To copy construct from a tensor, it is recommended to use sourceTensor.clone().detach() or sourceTensor.clone().detach().requires_grad_(True), rather than torch.tensor(sourceTensor).\n",
      "/tmp/ipykernel_1787816/2728341155.py:17: UserWarning: To copy construct from a tensor, it is recommended to use sourceTensor.clone().detach() or sourceTensor.clone().detach().requires_grad_(True), rather than torch.tensor(sourceTensor).\n",
      "/tmp/ipykernel_1787816/2728341155.py:17: UserWarning: To copy construct from a tensor, it is recommended to use sourceTensor.clone().detach() or sourceTensor.clone().detach().requires_grad_(True), rather than torch.tensor(sourceTensor).\n",
      "/tmp/ipykernel_1787816/2728341155.py:17: UserWarning: To copy construct from a tensor, it is recommended to use sourceTensor.clone().detach() or sourceTensor.clone().detach().requires_grad_(True), rather than torch.tensor(sourceTensor).\n",
      "/tmp/ipykernel_1787816/2728341155.py:17: UserWarning: To copy construct from a tensor, it is recommended to use sourceTensor.clone().detach() or sourceTensor.clone().detach().requires_grad_(True), rather than torch.tensor(sourceTensor).\n",
      "/tmp/ipykernel_1787816/2728341155.py:17: UserWarning: To copy construct from a tensor, it is recommended to use sourceTensor.clone().detach() or sourceTensor.clone().detach().requires_grad_(True), rather than torch.tensor(sourceTensor).\n",
      "/tmp/ipykernel_1787816/2728341155.py:17: UserWarning: To copy construct from a tensor, it is recommended to use sourceTensor.clone().detach() or sourceTensor.clone().detach().requires_grad_(True), rather than torch.tensor(sourceTensor).\n",
      "/tmp/ipykernel_1787816/2728341155.py:17: UserWarning: To copy construct from a tensor, it is recommended to use sourceTensor.clone().detach() or sourceTensor.clone().detach().requires_grad_(True), rather than torch.tensor(sourceTensor).\n",
      "/tmp/ipykernel_1787816/2728341155.py:17: UserWarning: To copy construct from a tensor, it is recommended to use sourceTensor.clone().detach() or sourceTensor.clone().detach().requires_grad_(True), rather than torch.tensor(sourceTensor).\n",
      "/tmp/ipykernel_1787816/2728341155.py:17: UserWarning: To copy construct from a tensor, it is recommended to use sourceTensor.clone().detach() or sourceTensor.clone().detach().requires_grad_(True), rather than torch.tensor(sourceTensor).\n",
      "/tmp/ipykernel_1787816/2728341155.py:17: UserWarning: To copy construct from a tensor, it is recommended to use sourceTensor.clone().detach() or sourceTensor.clone().detach().requires_grad_(True), rather than torch.tensor(sourceTensor).\n",
      "/tmp/ipykernel_1787816/2728341155.py:17: UserWarning: To copy construct from a tensor, it is recommended to use sourceTensor.clone().detach() or sourceTensor.clone().detach().requires_grad_(True), rather than torch.tensor(sourceTensor).\n",
      "/tmp/ipykernel_1787816/2728341155.py:17: UserWarning: To copy construct from a tensor, it is recommended to use sourceTensor.clone().detach() or sourceTensor.clone().detach().requires_grad_(True), rather than torch.tensor(sourceTensor).\n",
      "/tmp/ipykernel_1787816/2728341155.py:17: UserWarning: To copy construct from a tensor, it is recommended to use sourceTensor.clone().detach() or sourceTensor.clone().detach().requires_grad_(True), rather than torch.tensor(sourceTensor).\n",
      "/tmp/ipykernel_1787816/2728341155.py:17: UserWarning: To copy construct from a tensor, it is recommended to use sourceTensor.clone().detach() or sourceTensor.clone().detach().requires_grad_(True), rather than torch.tensor(sourceTensor).\n"
     ]
    },
    {
     "name": "stderr",
     "output_type": "stream",
     "text": [
      "/tmp/ipykernel_1787816/2728341155.py:17: UserWarning: To copy construct from a tensor, it is recommended to use sourceTensor.clone().detach() or sourceTensor.clone().detach().requires_grad_(True), rather than torch.tensor(sourceTensor).\n",
      "/tmp/ipykernel_1787816/2728341155.py:17: UserWarning: To copy construct from a tensor, it is recommended to use sourceTensor.clone().detach() or sourceTensor.clone().detach().requires_grad_(True), rather than torch.tensor(sourceTensor).\n",
      "/tmp/ipykernel_1787816/2728341155.py:17: UserWarning: To copy construct from a tensor, it is recommended to use sourceTensor.clone().detach() or sourceTensor.clone().detach().requires_grad_(True), rather than torch.tensor(sourceTensor).\n",
      "/tmp/ipykernel_1787816/2728341155.py:17: UserWarning: To copy construct from a tensor, it is recommended to use sourceTensor.clone().detach() or sourceTensor.clone().detach().requires_grad_(True), rather than torch.tensor(sourceTensor).\n",
      "/tmp/ipykernel_1787816/2728341155.py:17: UserWarning: To copy construct from a tensor, it is recommended to use sourceTensor.clone().detach() or sourceTensor.clone().detach().requires_grad_(True), rather than torch.tensor(sourceTensor).\n",
      "/tmp/ipykernel_1787816/2728341155.py:17: UserWarning: To copy construct from a tensor, it is recommended to use sourceTensor.clone().detach() or sourceTensor.clone().detach().requires_grad_(True), rather than torch.tensor(sourceTensor).\n",
      "/tmp/ipykernel_1787816/2728341155.py:17: UserWarning: To copy construct from a tensor, it is recommended to use sourceTensor.clone().detach() or sourceTensor.clone().detach().requires_grad_(True), rather than torch.tensor(sourceTensor).\n",
      "/tmp/ipykernel_1787816/2728341155.py:17: UserWarning: To copy construct from a tensor, it is recommended to use sourceTensor.clone().detach() or sourceTensor.clone().detach().requires_grad_(True), rather than torch.tensor(sourceTensor).\n",
      "/tmp/ipykernel_1787816/2728341155.py:17: UserWarning: To copy construct from a tensor, it is recommended to use sourceTensor.clone().detach() or sourceTensor.clone().detach().requires_grad_(True), rather than torch.tensor(sourceTensor).\n",
      "/tmp/ipykernel_1787816/2728341155.py:17: UserWarning: To copy construct from a tensor, it is recommended to use sourceTensor.clone().detach() or sourceTensor.clone().detach().requires_grad_(True), rather than torch.tensor(sourceTensor).\n",
      "/tmp/ipykernel_1787816/2728341155.py:17: UserWarning: To copy construct from a tensor, it is recommended to use sourceTensor.clone().detach() or sourceTensor.clone().detach().requires_grad_(True), rather than torch.tensor(sourceTensor).\n",
      "/tmp/ipykernel_1787816/2728341155.py:17: UserWarning: To copy construct from a tensor, it is recommended to use sourceTensor.clone().detach() or sourceTensor.clone().detach().requires_grad_(True), rather than torch.tensor(sourceTensor).\n",
      "/tmp/ipykernel_1787816/2728341155.py:17: UserWarning: To copy construct from a tensor, it is recommended to use sourceTensor.clone().detach() or sourceTensor.clone().detach().requires_grad_(True), rather than torch.tensor(sourceTensor).\n",
      "/tmp/ipykernel_1787816/2728341155.py:17: UserWarning: To copy construct from a tensor, it is recommended to use sourceTensor.clone().detach() or sourceTensor.clone().detach().requires_grad_(True), rather than torch.tensor(sourceTensor).\n",
      "/tmp/ipykernel_1787816/2728341155.py:17: UserWarning: To copy construct from a tensor, it is recommended to use sourceTensor.clone().detach() or sourceTensor.clone().detach().requires_grad_(True), rather than torch.tensor(sourceTensor).\n",
      "/tmp/ipykernel_1787816/2728341155.py:17: UserWarning: To copy construct from a tensor, it is recommended to use sourceTensor.clone().detach() or sourceTensor.clone().detach().requires_grad_(True), rather than torch.tensor(sourceTensor).\n",
      "/tmp/ipykernel_1787816/2728341155.py:17: UserWarning: To copy construct from a tensor, it is recommended to use sourceTensor.clone().detach() or sourceTensor.clone().detach().requires_grad_(True), rather than torch.tensor(sourceTensor).\n",
      "/tmp/ipykernel_1787816/2728341155.py:17: UserWarning: To copy construct from a tensor, it is recommended to use sourceTensor.clone().detach() or sourceTensor.clone().detach().requires_grad_(True), rather than torch.tensor(sourceTensor).\n",
      "/tmp/ipykernel_1787816/2728341155.py:17: UserWarning: To copy construct from a tensor, it is recommended to use sourceTensor.clone().detach() or sourceTensor.clone().detach().requires_grad_(True), rather than torch.tensor(sourceTensor).\n",
      "/tmp/ipykernel_1787816/2728341155.py:17: UserWarning: To copy construct from a tensor, it is recommended to use sourceTensor.clone().detach() or sourceTensor.clone().detach().requires_grad_(True), rather than torch.tensor(sourceTensor).\n",
      "/tmp/ipykernel_1787816/2728341155.py:17: UserWarning: To copy construct from a tensor, it is recommended to use sourceTensor.clone().detach() or sourceTensor.clone().detach().requires_grad_(True), rather than torch.tensor(sourceTensor).\n",
      "/tmp/ipykernel_1787816/2728341155.py:17: UserWarning: To copy construct from a tensor, it is recommended to use sourceTensor.clone().detach() or sourceTensor.clone().detach().requires_grad_(True), rather than torch.tensor(sourceTensor).\n",
      "/tmp/ipykernel_1787816/2728341155.py:17: UserWarning: To copy construct from a tensor, it is recommended to use sourceTensor.clone().detach() or sourceTensor.clone().detach().requires_grad_(True), rather than torch.tensor(sourceTensor).\n",
      "/tmp/ipykernel_1787816/2728341155.py:17: UserWarning: To copy construct from a tensor, it is recommended to use sourceTensor.clone().detach() or sourceTensor.clone().detach().requires_grad_(True), rather than torch.tensor(sourceTensor).\n",
      "/tmp/ipykernel_1787816/2728341155.py:17: UserWarning: To copy construct from a tensor, it is recommended to use sourceTensor.clone().detach() or sourceTensor.clone().detach().requires_grad_(True), rather than torch.tensor(sourceTensor).\n",
      "/tmp/ipykernel_1787816/2728341155.py:17: UserWarning: To copy construct from a tensor, it is recommended to use sourceTensor.clone().detach() or sourceTensor.clone().detach().requires_grad_(True), rather than torch.tensor(sourceTensor).\n",
      "/tmp/ipykernel_1787816/2728341155.py:17: UserWarning: To copy construct from a tensor, it is recommended to use sourceTensor.clone().detach() or sourceTensor.clone().detach().requires_grad_(True), rather than torch.tensor(sourceTensor).\n",
      "/tmp/ipykernel_1787816/2728341155.py:17: UserWarning: To copy construct from a tensor, it is recommended to use sourceTensor.clone().detach() or sourceTensor.clone().detach().requires_grad_(True), rather than torch.tensor(sourceTensor).\n",
      "/tmp/ipykernel_1787816/2728341155.py:17: UserWarning: To copy construct from a tensor, it is recommended to use sourceTensor.clone().detach() or sourceTensor.clone().detach().requires_grad_(True), rather than torch.tensor(sourceTensor).\n",
      "/tmp/ipykernel_1787816/2728341155.py:17: UserWarning: To copy construct from a tensor, it is recommended to use sourceTensor.clone().detach() or sourceTensor.clone().detach().requires_grad_(True), rather than torch.tensor(sourceTensor).\n",
      "/tmp/ipykernel_1787816/2728341155.py:17: UserWarning: To copy construct from a tensor, it is recommended to use sourceTensor.clone().detach() or sourceTensor.clone().detach().requires_grad_(True), rather than torch.tensor(sourceTensor).\n",
      "/tmp/ipykernel_1787816/2728341155.py:17: UserWarning: To copy construct from a tensor, it is recommended to use sourceTensor.clone().detach() or sourceTensor.clone().detach().requires_grad_(True), rather than torch.tensor(sourceTensor).\n",
      "/tmp/ipykernel_1787816/2728341155.py:17: UserWarning: To copy construct from a tensor, it is recommended to use sourceTensor.clone().detach() or sourceTensor.clone().detach().requires_grad_(True), rather than torch.tensor(sourceTensor).\n",
      "/tmp/ipykernel_1787816/2728341155.py:17: UserWarning: To copy construct from a tensor, it is recommended to use sourceTensor.clone().detach() or sourceTensor.clone().detach().requires_grad_(True), rather than torch.tensor(sourceTensor).\n",
      "/tmp/ipykernel_1787816/2728341155.py:17: UserWarning: To copy construct from a tensor, it is recommended to use sourceTensor.clone().detach() or sourceTensor.clone().detach().requires_grad_(True), rather than torch.tensor(sourceTensor).\n"
     ]
    },
    {
     "name": "stderr",
     "output_type": "stream",
     "text": [
      "/tmp/ipykernel_1787816/2728341155.py:17: UserWarning: To copy construct from a tensor, it is recommended to use sourceTensor.clone().detach() or sourceTensor.clone().detach().requires_grad_(True), rather than torch.tensor(sourceTensor).\n",
      "/tmp/ipykernel_1787816/2728341155.py:17: UserWarning: To copy construct from a tensor, it is recommended to use sourceTensor.clone().detach() or sourceTensor.clone().detach().requires_grad_(True), rather than torch.tensor(sourceTensor).\n",
      "/tmp/ipykernel_1787816/2728341155.py:17: UserWarning: To copy construct from a tensor, it is recommended to use sourceTensor.clone().detach() or sourceTensor.clone().detach().requires_grad_(True), rather than torch.tensor(sourceTensor).\n",
      "/tmp/ipykernel_1787816/2728341155.py:17: UserWarning: To copy construct from a tensor, it is recommended to use sourceTensor.clone().detach() or sourceTensor.clone().detach().requires_grad_(True), rather than torch.tensor(sourceTensor).\n",
      "/tmp/ipykernel_1787816/2728341155.py:17: UserWarning: To copy construct from a tensor, it is recommended to use sourceTensor.clone().detach() or sourceTensor.clone().detach().requires_grad_(True), rather than torch.tensor(sourceTensor).\n",
      "/tmp/ipykernel_1787816/2728341155.py:17: UserWarning: To copy construct from a tensor, it is recommended to use sourceTensor.clone().detach() or sourceTensor.clone().detach().requires_grad_(True), rather than torch.tensor(sourceTensor).\n",
      "/tmp/ipykernel_1787816/2728341155.py:17: UserWarning: To copy construct from a tensor, it is recommended to use sourceTensor.clone().detach() or sourceTensor.clone().detach().requires_grad_(True), rather than torch.tensor(sourceTensor).\n",
      "/tmp/ipykernel_1787816/2728341155.py:17: UserWarning: To copy construct from a tensor, it is recommended to use sourceTensor.clone().detach() or sourceTensor.clone().detach().requires_grad_(True), rather than torch.tensor(sourceTensor).\n",
      "/tmp/ipykernel_1787816/2728341155.py:17: UserWarning: To copy construct from a tensor, it is recommended to use sourceTensor.clone().detach() or sourceTensor.clone().detach().requires_grad_(True), rather than torch.tensor(sourceTensor).\n",
      "/tmp/ipykernel_1787816/2728341155.py:17: UserWarning: To copy construct from a tensor, it is recommended to use sourceTensor.clone().detach() or sourceTensor.clone().detach().requires_grad_(True), rather than torch.tensor(sourceTensor).\n",
      "/tmp/ipykernel_1787816/2728341155.py:17: UserWarning: To copy construct from a tensor, it is recommended to use sourceTensor.clone().detach() or sourceTensor.clone().detach().requires_grad_(True), rather than torch.tensor(sourceTensor).\n",
      "/tmp/ipykernel_1787816/2728341155.py:17: UserWarning: To copy construct from a tensor, it is recommended to use sourceTensor.clone().detach() or sourceTensor.clone().detach().requires_grad_(True), rather than torch.tensor(sourceTensor).\n",
      "/tmp/ipykernel_1787816/2728341155.py:17: UserWarning: To copy construct from a tensor, it is recommended to use sourceTensor.clone().detach() or sourceTensor.clone().detach().requires_grad_(True), rather than torch.tensor(sourceTensor).\n",
      "/tmp/ipykernel_1787816/2728341155.py:17: UserWarning: To copy construct from a tensor, it is recommended to use sourceTensor.clone().detach() or sourceTensor.clone().detach().requires_grad_(True), rather than torch.tensor(sourceTensor).\n"
     ]
    },
    {
     "name": "stdout",
     "output_type": "stream",
     "text": [
      "Processing data took 119.0 seconds\n"
     ]
    }
   ],
   "source": [
    "start = time.time()\n",
    "processed_data_test = Parallel(n_jobs = 10)(delayed(process_images_in_parallel)(image) for image in test_real)\n",
    "end = time.time()\n",
    "\n",
    "print(\"Processing data took\", round(end-start, 0), \"seconds\")"
   ]
  },
  {
   "cell_type": "markdown",
   "id": "e6b3b886",
   "metadata": {},
   "source": [
    "# **Part 2: the models (10 points)**\n",
    "\n",
    "In this part, you will implement two substantially different model archictectures, that both take your representation of the images as training input and both take your representation of the bounding boxes as objective (HINT: the binary classification of pixels as belonging to a bounding box or not).  They will save the trained models to files so that they can be loaded and tested later. The output of the models will be a \"soft binary\" -- the probability of each pixel being inside a bounding box, from 0 to 1.  Consider examining some of the training data before designing your architectures.\n",
    "\n",
    "You have a large grant of freedom as to what these model architectures will look like (remember: grading is on a \"reasonable effort\" basis).  There's a high chance (HINT) that they will both use one or more convolutional layers, among other things.  Describe the models and the motivations for the architecture in your report."
   ]
  },
  {
   "cell_type": "code",
   "execution_count": 12,
   "id": "c93c360a",
   "metadata": {},
   "outputs": [],
   "source": [
    "#model imports\n",
    "from torch.nn import Module\n",
    "from torch.nn import Conv2d\n",
    "from torch.nn import Linear\n",
    "from torch.nn import MaxPool2d\n",
    "from torch.nn import ReLU\n",
    "from torch.nn import LogSoftmax\n",
    "from torch import flatten\n",
    "import torch.optim as optim\n",
    "from torch.utils.data import DataLoader"
   ]
  },
  {
   "cell_type": "code",
   "execution_count": 13,
   "id": "03824346",
   "metadata": {},
   "outputs": [],
   "source": [
    "#parameters\n",
    "learning_rate = 0.001\n",
    "epochs = 3"
   ]
  },
  {
   "cell_type": "code",
   "execution_count": 14,
   "id": "882ec6b1",
   "metadata": {},
   "outputs": [],
   "source": [
    "dataloader_train = DataLoader(processed_data, shuffle=True, batch_size=2)"
   ]
  },
  {
   "cell_type": "code",
   "execution_count": 6,
   "id": "d3c98fd7",
   "metadata": {},
   "outputs": [],
   "source": [
    "#LeNet\n",
    "#CONV => RELU => POOL * 2 => FC => RELU => FC => SOFTMAX\n",
    "\n",
    "class Model1(nn.Module):\n",
    "    def __init__(self):\n",
    "        super(Model1, self).__init__()\n",
    "        \n",
    "        #CONV => RELU => POOL 1.0\n",
    "        self.conv1 = Conv2d(in_channels=3, out_channels=3, kernel_size=(30, 30))\n",
    "        self.relu1 = ReLU()\n",
    "        self.maxpool1 = MaxPool2d(kernel_size=(30, 30), stride=(5, 5))\n",
    "        \n",
    "        #CONV => RELU => POOL 2.0\n",
    "        self.conv2 = Conv2d(in_channels=3, out_channels=3, kernel_size=(30, 30)) \n",
    "        self.relu2 = ReLU()\n",
    "        self.maxpool2 = MaxPool2d(kernel_size=(30, 30), stride=(5, 5))\n",
    "\n",
    "        #FC => RELU\n",
    "        self.fc1 = Linear(in_features=13872, out_features=500)\n",
    "        self.relu3 = ReLU()\n",
    "        \n",
    "        #softmax classifier\n",
    "        self.fc2 = Linear(in_features=500, out_features=2)\n",
    "        self.sigmoid = nn.Sigmoid()\n",
    "\n",
    "        \n",
    "    def forward(self, x):\n",
    "        \n",
    "        #CONV => RELU => POOL 1.0\n",
    "        x = self.conv1(x)\n",
    "        x = self.relu1(x)\n",
    "        x = self.maxpool1(x)\n",
    "        \n",
    "        #CONV => RELU => POOL 2.0\n",
    "        x = self.conv2(x)\n",
    "        x = self.relu2(x)\n",
    "        x = self.maxpool2(x)\n",
    "\n",
    "        #FC => RELU\n",
    "        x = flatten(x, 1)\n",
    "        x = self.fc1(x)\n",
    "        x = self.relu3(x)\n",
    "        \n",
    "        #softmax classifier\n",
    "        x = self.fc2(x)\n",
    "        out = self.sigmoid(x)\n",
    "\n",
    "        return out"
   ]
  },
  {
   "cell_type": "code",
   "execution_count": 31,
   "id": "a017d618",
   "metadata": {
    "scrolled": true
   },
   "outputs": [
    {
     "name": "stdout",
     "output_type": "stream",
     "text": [
      "0.31812426456685656\n",
      "0.31812280222509033\n",
      "0.31812280354767863\n"
     ]
    }
   ],
   "source": [
    "model1 = Model1().to(device)\n",
    "\n",
    "model1.train()\n",
    "\n",
    "loss_function = nn.CrossEntropyLoss()\n",
    "optimizer = optim.Adam(model1.parameters(), lr=learning_rate)\n",
    "batch_size = 2\n",
    "\n",
    "for e in range(epochs):\n",
    "    total_loss = 0\n",
    "    for i, (image,truth) in enumerate(dataloader_train):\n",
    "\n",
    "        image, truth = image.to(device), truth.to(device)\n",
    "    \n",
    "        reshaping_x2 = image.reshape(len(image), 3, 2048, 2048)\n",
    "        \n",
    "        out = model1(reshaping_x2)\n",
    "\n",
    "        out = out.reshape(len(image), 2, 1)\n",
    "        blabla = torch.nn.Upsample(size=2048*2048)\n",
    "        out = blabla(out)\n",
    "        \n",
    "        loss = loss_function(out, truth)\n",
    "        total_loss += loss.item()\n",
    "        print(total_loss/(i+1), end='\\r')\n",
    "        \n",
    "        loss.backward()\n",
    "        \n",
    "        optimizer.step()\n",
    "        \n",
    "        optimizer.zero_grad()\n",
    "        \n",
    "    print()\n",
    "    \n",
    "torch.save(model1, 'model1_chinese.pt')"
   ]
  },
  {
   "cell_type": "markdown",
   "id": "860ca8f7",
   "metadata": {},
   "source": [
    "CNN for inspo: https://www.pyimagesearch.com/2021/07/19/pytorch-training-your-first-convolutional-neural-network-cnn/#pyis-cta-modal\n",
    "https://towardsdatascience.com/beginners-guide-to-building-convolutional-neural-networks-using-tensorflow-s-keras-api-in-python-6e8035e28238\n",
    "http://parneetk.github.io/blog/cnn-mnist/"
   ]
  },
  {
   "cell_type": "code",
   "execution_count": 15,
   "id": "4bb946f9",
   "metadata": {},
   "outputs": [],
   "source": [
    "def convolution_pack(in_c, out_c):\n",
    "    conv1 = nn.Conv2d(in_c, out_c, kernel_size = (30, 30)) #imma skip padding\n",
    "    relu1 = nn.ReLU()\n",
    "    conv2 = nn.Conv2d(in_c, out_c, kernel_size = (30, 30))\n",
    "    relu2 = nn.ReLU()\n",
    "    \n",
    "    return nn.Sequential(conv1, relu1, conv2, relu2)"
   ]
  },
  {
   "cell_type": "code",
   "execution_count": 21,
   "id": "d284c805",
   "metadata": {},
   "outputs": [],
   "source": [
    "#UNet\n",
    "\n",
    "class Model2(nn.Module):\n",
    "    def __init__(self):\n",
    "        super(Model2, self).__init__()\n",
    "        \n",
    "        #downsampling\n",
    "        self.down1 = convolution_pack(3, 64) #3 color channels\n",
    "        self.down2 = convolution_pack(64, 128)\n",
    "        self.down3 = convolution_pack(128, 256)\n",
    "        self.down4 = convolution_pack(256, 512)\n",
    "        \n",
    "        self.maxpool1 = nn.MaxPool2d(2)\n",
    "        \n",
    "        #upsampling\n",
    "        self.upsampling = nn.Upsample(mode = 'nearest', scale_factor = 2, align_corners = None)\n",
    "        self.up3 = convolution_pack(768, 256)\n",
    "        self.up2 = convolution_pack(384, 128)\n",
    "        self.up1 = convolution_pack(192, 64)\n",
    "        self.up0 = nn.Conv2d(64, 2, 1)\n",
    "        \n",
    "    def forward(self, x):\n",
    "        \n",
    "        #down\n",
    "        print(x.shape)\n",
    "        y = self.down1(x)\n",
    "        x = self.maxpool1(y)\n",
    "        z = self.down2(x)\n",
    "        x = self.maxpool1(z)\n",
    "        w = self.down3(x)\n",
    "        x = self.maxpool1(w)\n",
    "        x = self.down4(x)\n",
    "        \n",
    "        #up\n",
    "        x = self.upsampling(x)\n",
    "        x = torch.cat([x, w], dim = 1)\n",
    "        x = self.up3(x)\n",
    "        x = self.upsampling(x)\n",
    "        x = torch.cat([x, z], dim = 1)\n",
    "        x = self.up2(x)\n",
    "        x = self.upsampling(x)\n",
    "        x = torch.cat([x, y], dim = 1)\n",
    "        x = self.up1(x)\n",
    "        done = self.up0(x)\n",
    "        \n",
    "        return done        "
   ]
  },
  {
   "cell_type": "code",
   "execution_count": 23,
   "id": "a578f506",
   "metadata": {},
   "outputs": [
    {
     "ename": "IndexError",
     "evalue": "Dimension out of range (expected to be in range of [-4, 3], but got 2048)",
     "output_type": "error",
     "traceback": [
      "\u001b[0;31m---------------------------------------------------------------------------\u001b[0m",
      "\u001b[0;31mIndexError\u001b[0m                                Traceback (most recent call last)",
      "\u001b[0;32m/tmp/ipykernel_1967000/3493573810.py\u001b[0m in \u001b[0;36m<module>\u001b[0;34m\u001b[0m\n\u001b[1;32m     16\u001b[0m         \u001b[0;31m#reshaping = image.unsqueeze(0) #batch???????????????\u001b[0m\u001b[0;34m\u001b[0m\u001b[0;34m\u001b[0m\u001b[0;34m\u001b[0m\u001b[0m\n\u001b[1;32m     17\u001b[0m         \u001b[0;31m#print(image.shape)\u001b[0m\u001b[0;34m\u001b[0m\u001b[0;34m\u001b[0m\u001b[0;34m\u001b[0m\u001b[0m\n\u001b[0;32m---> 18\u001b[0;31m         \u001b[0mreshaping_x2\u001b[0m \u001b[0;34m=\u001b[0m \u001b[0mimage\u001b[0m\u001b[0;34m.\u001b[0m\u001b[0mpermute\u001b[0m\u001b[0;34m(\u001b[0m\u001b[0mlen\u001b[0m\u001b[0;34m(\u001b[0m\u001b[0mimage\u001b[0m\u001b[0;34m)\u001b[0m\u001b[0;34m,\u001b[0m \u001b[0;36m3\u001b[0m\u001b[0;34m,\u001b[0m \u001b[0;36m2048\u001b[0m\u001b[0;34m,\u001b[0m \u001b[0;36m2048\u001b[0m\u001b[0;34m)\u001b[0m \u001b[0;31m#before (len(image), 3, 2048, 2048)\u001b[0m\u001b[0;34m\u001b[0m\u001b[0;34m\u001b[0m\u001b[0m\n\u001b[0m\u001b[1;32m     19\u001b[0m         \u001b[0mprint\u001b[0m\u001b[0;34m(\u001b[0m\u001b[0mreshaping_x2\u001b[0m\u001b[0;34m.\u001b[0m\u001b[0mshape\u001b[0m\u001b[0;34m)\u001b[0m\u001b[0;34m\u001b[0m\u001b[0;34m\u001b[0m\u001b[0m\n\u001b[1;32m     20\u001b[0m         \u001b[0mout\u001b[0m \u001b[0;34m=\u001b[0m \u001b[0mmodel2\u001b[0m\u001b[0;34m(\u001b[0m\u001b[0mreshaping_x2\u001b[0m\u001b[0;34m)\u001b[0m\u001b[0;34m\u001b[0m\u001b[0;34m\u001b[0m\u001b[0m\n",
      "\u001b[0;31mIndexError\u001b[0m: Dimension out of range (expected to be in range of [-4, 3], but got 2048)"
     ]
    }
   ],
   "source": [
    "#UNet\n",
    "model2 = Model2().to(device)\n",
    "\n",
    "model2.train()\n",
    "\n",
    "loss_function = nn.CrossEntropyLoss()\n",
    "optimizer = optim.Adam(model2.parameters(), lr=learning_rate)\n",
    "batch_size = 2\n",
    "\n",
    "for e in range(epochs):\n",
    "    total_loss = 0\n",
    "    for i, (image,truth) in enumerate(dataloader_train):\n",
    "\n",
    "        image, truth = image.to(device), truth.to(device)\n",
    "    \n",
    "        #reshaping = image.unsqueeze(0) #batch???????????????\n",
    "        #print(image.shape)\n",
    "        reshaping_x2 = image.permute(len(image), 3, 2048, 2048) #before (len(image), 3, 2048, 2048)\n",
    "        print(reshaping_x2.shape)\n",
    "        out = model2(reshaping_x2)\n",
    "        print(out.shape)\n",
    "        out = out.reshape(len(image), 2, 1)\n",
    "        blabla = torch.nn.Upsample(size=2048*2048)\n",
    "        out = blabla(out)\n",
    "\n",
    "        loss = loss_function(out, truth)\n",
    "        total_loss += loss.item()\n",
    "        print(total_loss/(i+1), end='\\r')\n",
    "        \n",
    "        loss.backward()\n",
    "        \n",
    "        optimizer.step()\n",
    "        \n",
    "        optimizer.zero_grad()\n",
    "        \n",
    "    print()\n",
    "    \n",
    "torch.save(model1, 'model2_chinese.pt')"
   ]
  },
  {
   "cell_type": "markdown",
   "id": "b8b3ead5",
   "metadata": {},
   "source": [
    "# **Part 3: testing and evaluation (13 points)**\n",
    "\n",
    "You can use your test data by feeding the test images forward through the models. The output of the models will be pixel maps of the probability of a particular pixel being inside a bounding box.  These will be compared outside the model to the test data's bounding boxes.  You can use a number of different evaluation strategies -- one of them being to choose a probability threshold to decide whether a pixel is inside the bounding box or not, and then take recall/precision/X11/accuracy. Another one is to report it in terms of error, such as mean squared error. Even given your architectural choices, you will likely have hyperparameters to tune.  Describe the progress of your training and testing, with graphs if necessary, in your report.\n",
    "\n",
    "It should also be possible to examine the effects of applying the model to individual images.  Make it possible to visually represent the pixel/bounding box probabilities superimposed on the original images.  Examine some of the images to conduct a qualitative error analysis of your trained models. Include this analysis in your report."
   ]
  },
  {
   "cell_type": "code",
   "execution_count": 31,
   "id": "a6c7029e",
   "metadata": {},
   "outputs": [],
   "source": [
    "dataloader_test = DataLoader(processed_data_test, shuffle=True, batch_size=2)"
   ]
  },
  {
   "cell_type": "code",
   "execution_count": 32,
   "id": "7c3bf626",
   "metadata": {},
   "outputs": [],
   "source": [
    "model1 = torch.load(\"model1_chinese.pt\")"
   ]
  },
  {
   "cell_type": "code",
   "execution_count": 34,
   "id": "68713450",
   "metadata": {},
   "outputs": [
    {
     "name": "stderr",
     "output_type": "stream",
     "text": [
      "/usr/local/lib64/python3.9/site-packages/torch/nn/functional.py:718: UserWarning: Named tensors and all their associated APIs are an experimental feature and subject to change. Please do not use them for anything important until they are released as stable. (Triggered internally at  /pytorch/c10/core/TensorImpl.h:1156.)\n",
      "  return torch.max_pool2d(input, kernel_size, stride, padding, dilation, ceil_mode)\n",
      "/usr/local/lib64/python3.9/site-packages/torch/nn/modules/loss.py:528: UserWarning: Using a target size (torch.Size([2, 4194304])) that is different to the input size (torch.Size([2, 2, 4194304])). This will likely lead to incorrect results due to broadcasting. Please ensure they have the same size.\n",
      "  return F.mse_loss(input, target, reduction=self.reduction)\n",
      "/usr/local/lib64/python3.9/site-packages/torch/nn/modules/loss.py:528: UserWarning: Using a target size (torch.Size([1, 4194304])) that is different to the input size (torch.Size([1, 2, 4194304])). This will likely lead to incorrect results due to broadcasting. Please ensure they have the same size.\n",
      "  return F.mse_loss(input, target, reduction=self.reduction)\n"
     ]
    },
    {
     "name": "stdout",
     "output_type": "stream",
     "text": [
      "Mean squared error:  21.51534926891327\n"
     ]
    }
   ],
   "source": [
    "model1.eval()\n",
    "\n",
    "MSE = nn.MSELoss()\n",
    "\n",
    "total_MSE = 0\n",
    "\n",
    "for i, (image,truth) in enumerate(dataloader_test):\n",
    "\n",
    "    image, truth = image.to(device), truth.to(device)\n",
    "\n",
    "    reshaping_x2 = image.reshape(len(image), 3, 2048, 2048)\n",
    "\n",
    "    out = model1(reshaping_x2)\n",
    "\n",
    "    out = out.reshape(len(image), 2, 1)\n",
    "    blabla = torch.nn.Upsample(size=2048*2048)\n",
    "    out = blabla(out)\n",
    "\n",
    "    #Mean Squared Error\n",
    "    mse_loss = MSE(out, truth.float())\n",
    "    mse_loss.backward()\n",
    "    total_MSE += mse_loss.item()\n",
    "\n",
    "print(\"Mean squared error: \", total_MSE)"
   ]
  }
 ],
 "metadata": {
  "kernelspec": {
   "display_name": "Python 3 (ipykernel)",
   "language": "python",
   "name": "python3"
  },
  "language_info": {
   "codemirror_mode": {
    "name": "ipython",
    "version": 3
   },
   "file_extension": ".py",
   "mimetype": "text/x-python",
   "name": "python",
   "nbconvert_exporter": "python",
   "pygments_lexer": "ipython3",
   "version": "3.9.6"
  }
 },
 "nbformat": 4,
 "nbformat_minor": 5
}
